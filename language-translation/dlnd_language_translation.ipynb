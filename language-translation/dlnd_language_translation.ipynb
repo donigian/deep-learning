{
 "cells": [
  {
   "cell_type": "markdown",
   "metadata": {
    "collapsed": true
   },
   "source": [
    "# Language Translation\n",
    "In this project, you’re going to take a peek into the realm of neural network machine translation.  You’ll be training a sequence to sequence model on a dataset of English and French sentences that can translate new sentences from English to French.\n",
    "## Get the Data\n",
    "Since translating the whole language of English to French will take lots of time to train, we have provided you with a small portion of the English corpus."
   ]
  },
  {
   "cell_type": "code",
   "execution_count": 1,
   "metadata": {
    "collapsed": true
   },
   "outputs": [],
   "source": [
    "\"\"\"\n",
    "DON'T MODIFY ANYTHING IN THIS CELL\n",
    "\"\"\"\n",
    "import helper\n",
    "import problem_unittests as tests\n",
    "\n",
    "source_path = 'data/small_vocab_en'\n",
    "target_path = 'data/small_vocab_fr'\n",
    "source_text = helper.load_data(source_path)\n",
    "target_text = helper.load_data(target_path)"
   ]
  },
  {
   "cell_type": "markdown",
   "metadata": {},
   "source": [
    "## Explore the Data\n",
    "Play around with view_sentence_range to view different parts of the data."
   ]
  },
  {
   "cell_type": "code",
   "execution_count": 2,
   "metadata": {},
   "outputs": [
    {
     "name": "stdout",
     "output_type": "stream",
     "text": [
      "Dataset Stats\n",
      "Roughly the number of unique words: 227\n",
      "Number of sentences: 137861\n",
      "Average number of words in a sentence: 13.225277634719028\n",
      "\n",
      "English sentences 0 to 10:\n",
      "new jersey is sometimes quiet during autumn , and it is snowy in april .\n",
      "the united states is usually chilly during july , and it is usually freezing in november .\n",
      "california is usually quiet during march , and it is usually hot in june .\n",
      "the united states is sometimes mild during june , and it is cold in september .\n",
      "your least liked fruit is the grape , but my least liked is the apple .\n",
      "his favorite fruit is the orange , but my favorite is the grape .\n",
      "paris is relaxing during december , but it is usually chilly in july .\n",
      "new jersey is busy during spring , and it is never hot in march .\n",
      "our least liked fruit is the lemon , but my least liked is the grape .\n",
      "the united states is sometimes busy during january , and it is sometimes warm in november .\n",
      "\n",
      "French sentences 0 to 10:\n",
      "new jersey est parfois calme pendant l' automne , et il est neigeux en avril .\n",
      "les états-unis est généralement froid en juillet , et il gèle habituellement en novembre .\n",
      "california est généralement calme en mars , et il est généralement chaud en juin .\n",
      "les états-unis est parfois légère en juin , et il fait froid en septembre .\n",
      "votre moins aimé fruit est le raisin , mais mon moins aimé est la pomme .\n",
      "son fruit préféré est l'orange , mais mon préféré est le raisin .\n",
      "paris est relaxant en décembre , mais il est généralement froid en juillet .\n",
      "new jersey est occupé au printemps , et il est jamais chaude en mars .\n",
      "notre fruit est moins aimé le citron , mais mon moins aimé est le raisin .\n",
      "les états-unis est parfois occupé en janvier , et il est parfois chaud en novembre .\n"
     ]
    }
   ],
   "source": [
    "view_sentence_range = (0, 10)\n",
    "\n",
    "\"\"\"\n",
    "DON'T MODIFY ANYTHING IN THIS CELL\n",
    "\"\"\"\n",
    "import numpy as np\n",
    "\n",
    "print('Dataset Stats')\n",
    "print('Roughly the number of unique words: {}'.format(len({word: None for word in source_text.split()})))\n",
    "\n",
    "sentences = source_text.split('\\n')\n",
    "word_counts = [len(sentence.split()) for sentence in sentences]\n",
    "print('Number of sentences: {}'.format(len(sentences)))\n",
    "print('Average number of words in a sentence: {}'.format(np.average(word_counts)))\n",
    "\n",
    "print()\n",
    "print('English sentences {} to {}:'.format(*view_sentence_range))\n",
    "print('\\n'.join(source_text.split('\\n')[view_sentence_range[0]:view_sentence_range[1]]))\n",
    "print()\n",
    "print('French sentences {} to {}:'.format(*view_sentence_range))\n",
    "print('\\n'.join(target_text.split('\\n')[view_sentence_range[0]:view_sentence_range[1]]))"
   ]
  },
  {
   "cell_type": "markdown",
   "metadata": {},
   "source": [
    "## Implement Preprocessing Function\n",
    "### Text to Word Ids\n",
    "As you did with other RNNs, you must turn the text into a number so the computer can understand it. In the function `text_to_ids()`, you'll turn `source_text` and `target_text` from words to ids.  However, you need to add the `<EOS>` word id at the end of `target_text`.  This will help the neural network predict when the sentence should end.\n",
    "\n",
    "You can get the `<EOS>` word id by doing:\n",
    "```python\n",
    "target_vocab_to_int['<EOS>']\n",
    "```\n",
    "You can get other word ids using `source_vocab_to_int` and `target_vocab_to_int`."
   ]
  },
  {
   "cell_type": "code",
   "execution_count": 3,
   "metadata": {},
   "outputs": [
    {
     "name": "stdout",
     "output_type": "stream",
     "text": [
      "Tests Passed\n"
     ]
    }
   ],
   "source": [
    "def text_to_ids(source_text, target_text, source_vocab_to_int, target_vocab_to_int):\n",
    "    \"\"\"\n",
    "    Convert source and target text to proper word ids\n",
    "    :param source_text: String that contains all the source text.\n",
    "    :param target_text: String that contains all the target text.\n",
    "    :param source_vocab_to_int: Dictionary to go from the source words to an id\n",
    "    :param target_vocab_to_int: Dictionary to go from the target words to an id\n",
    "    :return: A tuple of lists (source_id_text, target_id_text)\n",
    "    \"\"\"\n",
    "    # TODO: Implement Function\n",
    "    source_sentences = source_text.split('\\n')\n",
    "    target_sentences = target_text.split('\\n')\n",
    " \n",
    "    source_sentences_2_ids = []\n",
    "    target_sentences_2_ids = []\n",
    "    for sentence in source_sentences:\n",
    "        source_sentences_2_ids.append([source_vocab_to_int[word] for word in sentence.split()])\n",
    "        \n",
    "    for sentence in target_sentences:\n",
    "        words_2_ids = [target_vocab_to_int[word] for word in sentence.split()]\n",
    "        words_2_ids.append(target_vocab_to_int['<EOS>'])\n",
    "        target_sentences_2_ids.append(words_2_ids)\n",
    "    return source_sentences_2_ids, target_sentences_2_ids\n",
    "\n",
    "\"\"\"\n",
    "DON'T MODIFY ANYTHING IN THIS CELL THAT IS BELOW THIS LINE\n",
    "\"\"\"\n",
    "tests.test_text_to_ids(text_to_ids)"
   ]
  },
  {
   "cell_type": "markdown",
   "metadata": {},
   "source": [
    "### Preprocess all the data and save it\n",
    "Running the code cell below will preprocess all the data and save it to file."
   ]
  },
  {
   "cell_type": "code",
   "execution_count": 4,
   "metadata": {
    "collapsed": true
   },
   "outputs": [],
   "source": [
    "\"\"\"\n",
    "DON'T MODIFY ANYTHING IN THIS CELL\n",
    "\"\"\"\n",
    "helper.preprocess_and_save_data(source_path, target_path, text_to_ids)"
   ]
  },
  {
   "cell_type": "markdown",
   "metadata": {},
   "source": [
    "# Check Point\n",
    "This is your first checkpoint. If you ever decide to come back to this notebook or have to restart the notebook, you can start from here. The preprocessed data has been saved to disk."
   ]
  },
  {
   "cell_type": "code",
   "execution_count": 5,
   "metadata": {
    "collapsed": true
   },
   "outputs": [],
   "source": [
    "\"\"\"\n",
    "DON'T MODIFY ANYTHING IN THIS CELL\n",
    "\"\"\"\n",
    "import numpy as np\n",
    "import helper\n",
    "import problem_unittests as tests\n",
    "\n",
    "(source_int_text, target_int_text), (source_vocab_to_int, target_vocab_to_int), _ = helper.load_preprocess()"
   ]
  },
  {
   "cell_type": "markdown",
   "metadata": {},
   "source": [
    "### Check the Version of TensorFlow and Access to GPU\n",
    "This will check to make sure you have the correct version of TensorFlow and access to a GPU"
   ]
  },
  {
   "cell_type": "code",
   "execution_count": 6,
   "metadata": {},
   "outputs": [
    {
     "name": "stdout",
     "output_type": "stream",
     "text": [
      "TensorFlow Version: 1.1.0\n",
      "Default GPU Device: /gpu:0\n"
     ]
    }
   ],
   "source": [
    "\"\"\"\n",
    "DON'T MODIFY ANYTHING IN THIS CELL\n",
    "\"\"\"\n",
    "from distutils.version import LooseVersion\n",
    "import warnings\n",
    "import tensorflow as tf\n",
    "from tensorflow.python.layers.core import Dense\n",
    "\n",
    "# Check TensorFlow Version\n",
    "assert LooseVersion(tf.__version__) >= LooseVersion('1.1'), 'Please use TensorFlow version 1.1 or newer'\n",
    "print('TensorFlow Version: {}'.format(tf.__version__))\n",
    "\n",
    "# Check for a GPU\n",
    "if not tf.test.gpu_device_name():\n",
    "    warnings.warn('No GPU found. Please use a GPU to train your neural network.')\n",
    "else:\n",
    "    print('Default GPU Device: {}'.format(tf.test.gpu_device_name()))"
   ]
  },
  {
   "cell_type": "markdown",
   "metadata": {},
   "source": [
    "## Build the Neural Network\n",
    "You'll build the components necessary to build a Sequence-to-Sequence model by implementing the following functions below:\n",
    "- `model_inputs`\n",
    "- `process_decoder_input`\n",
    "- `encoding_layer`\n",
    "- `decoding_layer_train`\n",
    "- `decoding_layer_infer`\n",
    "- `decoding_layer`\n",
    "- `seq2seq_model`\n",
    "\n",
    "### Input\n",
    "Implement the `model_inputs()` function to create TF Placeholders for the Neural Network. It should create the following placeholders:\n",
    "\n",
    "- Input text placeholder named \"input\" using the TF Placeholder name parameter with rank 2.\n",
    "- Targets placeholder with rank 2.\n",
    "- Learning rate placeholder with rank 0.\n",
    "- Keep probability placeholder named \"keep_prob\" using the TF Placeholder name parameter with rank 0.\n",
    "- Target sequence length placeholder named \"target_sequence_length\" with rank 1\n",
    "- Max target sequence length tensor named \"max_target_len\" getting its value from applying tf.reduce_max on the target_sequence_length placeholder. Rank 0.\n",
    "- Source sequence length placeholder named \"source_sequence_length\" with rank 1\n",
    "\n",
    "Return the placeholders in the following the tuple (input, targets, learning rate, keep probability, target sequence length, max target sequence length, source sequence length)"
   ]
  },
  {
   "cell_type": "code",
   "execution_count": 7,
   "metadata": {},
   "outputs": [
    {
     "name": "stdout",
     "output_type": "stream",
     "text": [
      "Tests Passed\n"
     ]
    }
   ],
   "source": [
    "def model_inputs():\n",
    "    \"\"\"\n",
    "    Create TF Placeholders for input, targets, learning rate, and lengths of source and target sequences.\n",
    "    :return: Tuple (input, targets, learning rate, keep probability, target sequence length,\n",
    "    max target sequence length, source sequence length)\n",
    "    \"\"\"\n",
    "    # TODO: Implement Function\n",
    "    inputs = tf.placeholder(tf.int32, [None, None], name = 'input')\n",
    "    targets = tf.placeholder(tf.int32, [None, None], name = 'targets')\n",
    "    learning_rate = tf.placeholder(tf.float32, name = 'learning_rate')\n",
    "    keep_prob = tf.placeholder(tf.float32, name = 'keep_prob')\n",
    "    target_sequence_length = tf.placeholder(tf.int32,[None,], name='target_sequence_length')\n",
    "    max_target_sequence = tf.reduce_max(target_sequence_length)\n",
    "    source_sequence_length = tf.placeholder(tf.int32, [None,], name='source_sequence_length')\n",
    "    \n",
    "    return inputs, targets, learning_rate, keep_prob, target_sequence_length, max_target_sequence, source_sequence_length\n",
    "\n",
    "\n",
    "\"\"\"\n",
    "DON'T MODIFY ANYTHING IN THIS CELL THAT IS BELOW THIS LINE\n",
    "\"\"\"\n",
    "tests.test_model_inputs(model_inputs)"
   ]
  },
  {
   "cell_type": "markdown",
   "metadata": {},
   "source": [
    "### Process Decoder Input\n",
    "Implement `process_decoder_input` by removing the last word id from each batch in `target_data` and concat the GO ID to the begining of each batch."
   ]
  },
  {
   "cell_type": "code",
   "execution_count": 8,
   "metadata": {},
   "outputs": [
    {
     "name": "stdout",
     "output_type": "stream",
     "text": [
      "Tests Passed\n"
     ]
    }
   ],
   "source": [
    "def process_decoder_input(target_data, target_vocab_to_int, batch_size):\n",
    "    \"\"\"\n",
    "    Preprocess target data for encoding\n",
    "    :param target_data: Target Placehoder\n",
    "    :param target_vocab_to_int: Dictionary to go from the target words to an id\n",
    "    :param batch_size: Batch Size\n",
    "    :return: Preprocessed target data\n",
    "    \"\"\"\n",
    "    # TODO: Implement Function\n",
    "    ending = tf.strided_slice(target_data, [0, 0], [batch_size, -1], [1, 1])\n",
    "    return tf.concat([tf.fill([batch_size, 1], target_vocab_to_int['<GO>']), ending], 1)\n",
    "\n",
    "\"\"\"\n",
    "DON'T MODIFY ANYTHING IN THIS CELL THAT IS BELOW THIS LINE\n",
    "\"\"\"\n",
    "tests.test_process_encoding_input(process_decoder_input)"
   ]
  },
  {
   "cell_type": "markdown",
   "metadata": {},
   "source": [
    "### Encoding\n",
    "Implement `encoding_layer()` to create a Encoder RNN layer:\n",
    " * Embed the encoder input using [`tf.contrib.layers.embed_sequence`](https://www.tensorflow.org/api_docs/python/tf/contrib/layers/embed_sequence)\n",
    " * Construct a [stacked](https://github.com/tensorflow/tensorflow/blob/6947f65a374ebf29e74bb71e36fd82760056d82c/tensorflow/docs_src/tutorials/recurrent.md#stacking-multiple-lstms) [`tf.contrib.rnn.LSTMCell`](https://www.tensorflow.org/api_docs/python/tf/contrib/rnn/LSTMCell) wrapped in a [`tf.contrib.rnn.DropoutWrapper`](https://www.tensorflow.org/api_docs/python/tf/contrib/rnn/DropoutWrapper)\n",
    " * Pass cell and embedded input to [`tf.nn.dynamic_rnn()`](https://www.tensorflow.org/api_docs/python/tf/nn/dynamic_rnn)"
   ]
  },
  {
   "cell_type": "code",
   "execution_count": 9,
   "metadata": {
    "scrolled": false
   },
   "outputs": [
    {
     "name": "stdout",
     "output_type": "stream",
     "text": [
      "Tests Passed\n"
     ]
    }
   ],
   "source": [
    "from imp import reload\n",
    "reload(tests)\n",
    "\n",
    "def encoding_layer(rnn_inputs, rnn_size, num_layers, keep_prob, \n",
    "                   source_sequence_length, source_vocab_size, \n",
    "                   encoding_embedding_size):\n",
    "    \"\"\"\n",
    "    Create encoding layer\n",
    "    :param rnn_inputs: Inputs for the RNN\n",
    "    :param rnn_size: RNN Size\n",
    "    :param num_layers: Number of layers\n",
    "    :param keep_prob: Dropout keep probability\n",
    "    :param source_sequence_length: a list of the lengths of each sequence in the batch\n",
    "    :param source_vocab_size: vocabulary size of source data\n",
    "    :param encoding_embedding_size: embedding size of source data\n",
    "    :return: tuple (RNN output, RNN state)\n",
    "    \"\"\"\n",
    "    # TODO: Implement Function\n",
    "    encoder_embedding = tf.contrib.layers.embed_sequence(rnn_inputs, source_vocab_size, encoding_embedding_size)\n",
    "    encoder_cell = tf.contrib.rnn.MultiRNNCell([ tf.contrib.rnn.DropoutWrapper(tf.contrib.rnn.LSTMCell(rnn_size,\n",
    "                                                                        initializer = tf.random_uniform_initializer(-0.1, 0.1, \n",
    "                                                                        seed = 2017)), keep_prob) for x in range(num_layers)])\n",
    "        \n",
    "    rnn_output, rnn_state = tf.nn.dynamic_rnn(encoder_cell, \n",
    "                                              encoder_embedding, \n",
    "                                              sequence_length = source_sequence_length,\n",
    "                                              dtype = tf.float32)\n",
    "    return rnn_output, rnn_state\n",
    "\n",
    "\"\"\"\n",
    "DON'T MODIFY ANYTHING IN THIS CELL THAT IS BELOW THIS LINE\n",
    "\"\"\"\n",
    "tests.test_encoding_layer(encoding_layer)"
   ]
  },
  {
   "cell_type": "markdown",
   "metadata": {},
   "source": [
    "### Decoding - Training\n",
    "Create a training decoding layer:\n",
    "* Create a [`tf.contrib.seq2seq.TrainingHelper`](https://www.tensorflow.org/api_docs/python/tf/contrib/seq2seq/TrainingHelper) \n",
    "* Create a [`tf.contrib.seq2seq.BasicDecoder`](https://www.tensorflow.org/api_docs/python/tf/contrib/seq2seq/BasicDecoder)\n",
    "* Obtain the decoder outputs from [`tf.contrib.seq2seq.dynamic_decode`](https://www.tensorflow.org/api_docs/python/tf/contrib/seq2seq/dynamic_decode)"
   ]
  },
  {
   "cell_type": "code",
   "execution_count": 10,
   "metadata": {},
   "outputs": [
    {
     "name": "stdout",
     "output_type": "stream",
     "text": [
      "Tests Passed\n"
     ]
    }
   ],
   "source": [
    "\n",
    "def decoding_layer_train(encoder_state, dec_cell, dec_embed_input, \n",
    "                         target_sequence_length, max_summary_length, \n",
    "                         output_layer, keep_prob):\n",
    "    \"\"\"\n",
    "    Create a decoding layer for training\n",
    "    :param encoder_state: Encoder State\n",
    "    :param dec_cell: Decoder RNN Cell\n",
    "    :param dec_embed_input: Decoder embedded input\n",
    "    :param target_sequence_length: The lengths of each sequence in the target batch\n",
    "    :param max_summary_length: The length of the longest sequence in the batch\n",
    "    :param output_layer: Function to apply the output layer\n",
    "    :param keep_prob: Dropout keep probability\n",
    "    :return: BasicDecoderOutput containing training logits and sample_id\n",
    "    \"\"\"\n",
    "    # TODO: Implement Function\n",
    "    train_helper = tf.contrib.seq2seq.TrainingHelper(inputs = dec_embed_input,\n",
    "                                                              sequence_length = target_sequence_length,\n",
    "                                                              time_major = False)\n",
    "    train_decoder = tf.contrib.seq2seq.BasicDecoder(dec_cell, train_helper, encoder_state, output_layer)\n",
    "    return tf.contrib.seq2seq.dynamic_decode(train_decoder, \n",
    "                                             impute_finished = True, \n",
    "                                             maximum_iterations= max_summary_length)[0]\n",
    "\n",
    "\"\"\"\n",
    "DON'T MODIFY ANYTHING IN THIS CELL THAT IS BELOW THIS LINE\n",
    "\"\"\"\n",
    "tests.test_decoding_layer_train(decoding_layer_train)"
   ]
  },
  {
   "cell_type": "markdown",
   "metadata": {},
   "source": [
    "### Decoding - Inference\n",
    "Create inference decoder:\n",
    "* Create a [`tf.contrib.seq2seq.GreedyEmbeddingHelper`](https://www.tensorflow.org/api_docs/python/tf/contrib/seq2seq/GreedyEmbeddingHelper)\n",
    "* Create a [`tf.contrib.seq2seq.BasicDecoder`](https://www.tensorflow.org/api_docs/python/tf/contrib/seq2seq/BasicDecoder)\n",
    "* Obtain the decoder outputs from [`tf.contrib.seq2seq.dynamic_decode`](https://www.tensorflow.org/api_docs/python/tf/contrib/seq2seq/dynamic_decode)"
   ]
  },
  {
   "cell_type": "code",
   "execution_count": 11,
   "metadata": {
    "scrolled": true
   },
   "outputs": [
    {
     "name": "stdout",
     "output_type": "stream",
     "text": [
      "Tests Passed\n"
     ]
    }
   ],
   "source": [
    "def decoding_layer_infer(encoder_state, dec_cell, dec_embeddings, start_of_sequence_id,\n",
    "                         end_of_sequence_id, max_target_sequence_length,\n",
    "                         vocab_size, output_layer, batch_size, keep_prob):\n",
    "    \"\"\"\n",
    "    Create a decoding layer for inference\n",
    "    :param encoder_state: Encoder state\n",
    "    :param dec_cell: Decoder RNN Cell\n",
    "    :param dec_embeddings: Decoder embeddings\n",
    "    :param start_of_sequence_id: GO ID\n",
    "    :param end_of_sequence_id: EOS Id\n",
    "    :param max_target_sequence_length: Maximum length of target sequences\n",
    "    :param vocab_size: Size of decoder/target vocabulary\n",
    "    :param decoding_scope: TenorFlow Variable Scope for decoding\n",
    "    :param output_layer: Function to apply the output layer\n",
    "    :param batch_size: Batch size\n",
    "    :param keep_prob: Dropout keep probability\n",
    "    :return: BasicDecoderOutput containing inference logits and sample_id\n",
    "    \"\"\"\n",
    "    # TODO: Implement Function\n",
    "    start_tokens = tf.tile(tf.constant([start_of_sequence_id], dtype = tf.int32), [batch_size], name = 'start_tokens')\n",
    "    \n",
    "    inference_helper = tf.contrib.seq2seq.GreedyEmbeddingHelper(dec_embeddings,\n",
    "                                                               start_tokens,\n",
    "                                                               end_of_sequence_id)\n",
    "    \n",
    "    inference_decoder = tf.contrib.seq2seq.BasicDecoder(dec_cell,\n",
    "                                                       inference_helper,\n",
    "                                                       encoder_state,\n",
    "                                                       output_layer)\n",
    "    \n",
    "    return tf.contrib.seq2seq.dynamic_decode(inference_decoder,\n",
    "                                             impute_finished = True,\n",
    "                                             maximum_iterations = max_target_sequence_length)[0]\n",
    "    \n",
    "\"\"\"\n",
    "DON'T MODIFY ANYTHING IN THIS CELL THAT IS BELOW THIS LINE\n",
    "\"\"\"\n",
    "tests.test_decoding_layer_infer(decoding_layer_infer)"
   ]
  },
  {
   "cell_type": "markdown",
   "metadata": {},
   "source": [
    "### Build the Decoding Layer\n",
    "Implement `decoding_layer()` to create a Decoder RNN layer.\n",
    "\n",
    "* Embed the target sequences\n",
    "* Construct the decoder LSTM cell (just like you constructed the encoder cell above)\n",
    "* Create an output layer to map the outputs of the decoder to the elements of our vocabulary\n",
    "* Use the your `decoding_layer_train(encoder_state, dec_cell, dec_embed_input, target_sequence_length, max_target_sequence_length, output_layer, keep_prob)` function to get the training logits.\n",
    "* Use your `decoding_layer_infer(encoder_state, dec_cell, dec_embeddings, start_of_sequence_id, end_of_sequence_id, max_target_sequence_length, vocab_size, output_layer, batch_size, keep_prob)` function to get the inference logits.\n",
    "\n",
    "Note: You'll need to use [tf.variable_scope](https://www.tensorflow.org/api_docs/python/tf/variable_scope) to share variables between training and inference."
   ]
  },
  {
   "cell_type": "code",
   "execution_count": 12,
   "metadata": {},
   "outputs": [
    {
     "name": "stdout",
     "output_type": "stream",
     "text": [
      "Tests Passed\n"
     ]
    }
   ],
   "source": [
    "# RNN cell\n",
    "def make_cell(rnn_size):\n",
    "    enc_cell = tf.contrib.rnn.LSTMCell(rnn_size,\n",
    "                                       initializer=tf.random_uniform_initializer(-0.1, 0.1, seed=2))\n",
    "    return enc_cell\n",
    "\n",
    "def decoding_layer(dec_input, encoder_state,\n",
    "                   target_sequence_length, max_target_sequence_length,\n",
    "                   rnn_size,\n",
    "                   num_layers, target_vocab_to_int, target_vocab_size,\n",
    "                   batch_size, keep_prob, decoding_embedding_size):\n",
    "    \"\"\"\n",
    "    Create decoding layer\n",
    "    :param dec_input: Decoder input\n",
    "    :param encoder_state: Encoder state\n",
    "    :param target_sequence_length: The lengths of each sequence in the target batch\n",
    "    :param max_target_sequence_length: Maximum length of target sequences\n",
    "    :param rnn_size: RNN Size\n",
    "    :param num_layers: Number of layers\n",
    "    :param target_vocab_to_int: Dictionary to go from the target words to an id\n",
    "    :param target_vocab_size: Size of target vocabulary\n",
    "    :param batch_size: The size of the batch\n",
    "    :param keep_prob: Dropout keep probability\n",
    "    :param decoding_embedding_size: Decoding embedding size\n",
    "    :return: Tuple of (Training BasicDecoderOutput, Inference BasicDecoderOutput)\n",
    "    \"\"\"\n",
    "\n",
    "    decoder_embeddings = tf.Variable(tf.random_uniform([target_vocab_size, decoding_embedding_size]))\n",
    "    decoder_embed_input = tf.nn.embedding_lookup(decoder_embeddings, dec_input)\n",
    "\n",
    "    decoder_cell = tf.contrib.rnn.MultiRNNCell([ tf.contrib.rnn.DropoutWrapper(tf.contrib.rnn.LSTMCell(rnn_size,\n",
    "                                            initializer=tf.random_uniform_initializer(-0.1,0.1,seed=2007)), keep_prob) for _ in range(num_layers)])\n",
    "    \n",
    "    output_layer = Dense(target_vocab_size,\n",
    "                         kernel_initializer = tf.truncated_normal_initializer(mean = 0.0, stddev=0.1))\n",
    "\n",
    "    with tf.variable_scope(\"decode\"):\n",
    "        train_decoder_out = decoding_layer_train(encoder_state, \n",
    "                                                 decoder_cell, \n",
    "                                                 decoder_embed_input, \n",
    "                                                 target_sequence_length, \n",
    "                                                 max_target_sequence_length, \n",
    "                                                 output_layer, \n",
    "                                                 keep_prob)\n",
    "        \n",
    "    with tf.variable_scope(\"decode\", reuse=True):\n",
    "        infer_decoder_out = decoding_layer_infer(encoder_state, \n",
    "                                                 decoder_cell, \n",
    "                                                 decoder_embeddings, \n",
    "                                                 target_vocab_to_int['<GO>'], \n",
    "                                                 target_vocab_to_int['<EOS>'], \n",
    "                                                 max_target_sequence_length, \n",
    "                                                 target_vocab_size, \n",
    "                                                 output_layer, \n",
    "                                                 batch_size, keep_prob)\n",
    "        \n",
    "    return (train_decoder_out, infer_decoder_out)\n",
    "\n",
    "\n",
    "\"\"\"\n",
    "DON'T MODIFY ANYTHING IN THIS CELL THAT IS BELOW THIS LINE\n",
    "\"\"\"\n",
    "tests.test_decoding_layer(decoding_layer)"
   ]
  },
  {
   "cell_type": "markdown",
   "metadata": {},
   "source": [
    "### Build the Neural Network\n",
    "Apply the functions you implemented above to:\n",
    "\n",
    "- Encode the input using your `encoding_layer(rnn_inputs, rnn_size, num_layers, keep_prob,  source_sequence_length, source_vocab_size, encoding_embedding_size)`.\n",
    "- Process target data using your `process_decoder_input(target_data, target_vocab_to_int, batch_size)` function.\n",
    "- Decode the encoded input using your `decoding_layer(dec_input, enc_state, target_sequence_length, max_target_sentence_length, rnn_size, num_layers, target_vocab_to_int, target_vocab_size, batch_size, keep_prob, dec_embedding_size)` function."
   ]
  },
  {
   "cell_type": "code",
   "execution_count": 13,
   "metadata": {},
   "outputs": [
    {
     "name": "stdout",
     "output_type": "stream",
     "text": [
      "Tests Passed\n"
     ]
    }
   ],
   "source": [
    "def seq2seq_model(input_data, target_data, keep_prob, batch_size,\n",
    "                  source_sequence_length, target_sequence_length,\n",
    "                  max_target_sentence_length,\n",
    "                  source_vocab_size, target_vocab_size,\n",
    "                  enc_embedding_size, dec_embedding_size,\n",
    "                  rnn_size, num_layers, target_vocab_to_int):\n",
    "    \"\"\"\n",
    "    Build the Sequence-to-Sequence part of the neural network\n",
    "    :param input_data: Input placeholder\n",
    "    :param target_data: Target placeholder\n",
    "    :param keep_prob: Dropout keep probability placeholder\n",
    "    :param batch_size: Batch Size\n",
    "    :param source_sequence_length: Sequence Lengths of source sequences in the batch\n",
    "    :param target_sequence_length: Sequence Lengths of target sequences in the batch\n",
    "    :param source_vocab_size: Source vocabulary size\n",
    "    :param target_vocab_size: Target vocabulary size\n",
    "    :param enc_embedding_size: Decoder embedding size\n",
    "    :param dec_embedding_size: Encoder embedding size\n",
    "    :param rnn_size: RNN Size\n",
    "    :param num_layers: Number of layers\n",
    "    :param target_vocab_to_int: Dictionary to go from the target words to an id\n",
    "    :return: Tuple of (Training BasicDecoderOutput, Inference BasicDecoderOutput)\n",
    "    \"\"\"\n",
    "    # TODO: Implement Function\n",
    "    _, enc_state = encoding_layer(input_data, \n",
    "                               rnn_size, \n",
    "                               num_layers, \n",
    "                               keep_prob, \n",
    "                               source_sequence_length, \n",
    "                               source_vocab_size, \n",
    "                               enc_embedding_size)\n",
    "    \n",
    "    proc_data = process_decoder_input(target_data, target_vocab_to_int, batch_size) \n",
    "    return decoding_layer(proc_data, \n",
    "                          enc_state,\n",
    "                          target_sequence_length,\n",
    "                          max_target_sentence_length,\n",
    "                          rnn_size,\n",
    "                          num_layers,\n",
    "                          target_vocab_to_int,\n",
    "                          target_vocab_size,\n",
    "                          batch_size,\n",
    "                          keep_prob,\n",
    "                          dec_embedding_size)\n",
    "\n",
    "\"\"\"\n",
    "DON'T MODIFY ANYTHING IN THIS CELL THAT IS BELOW THIS LINE\n",
    "\"\"\"\n",
    "tests.test_seq2seq_model(seq2seq_model)"
   ]
  },
  {
   "cell_type": "markdown",
   "metadata": {},
   "source": [
    "## Neural Network Training\n",
    "### Hyperparameters\n",
    "Tune the following parameters:\n",
    "\n",
    "- Set `epochs` to the number of epochs.\n",
    "- Set `batch_size` to the batch size.\n",
    "- Set `rnn_size` to the size of the RNNs.\n",
    "- Set `num_layers` to the number of layers.\n",
    "- Set `encoding_embedding_size` to the size of the embedding for the encoder.\n",
    "- Set `decoding_embedding_size` to the size of the embedding for the decoder.\n",
    "- Set `learning_rate` to the learning rate.\n",
    "- Set `keep_probability` to the Dropout keep probability\n",
    "- Set `display_step` to state how many steps between each debug output statement"
   ]
  },
  {
   "cell_type": "code",
   "execution_count": 14,
   "metadata": {
    "collapsed": true
   },
   "outputs": [],
   "source": [
    "# Number of Epochs\n",
    "epochs = 8\n",
    "# Batch Size\n",
    "batch_size = 512\n",
    "# RNN Size\n",
    "rnn_size = 512\n",
    "# Number of Layers\n",
    "num_layers = 3\n",
    "# Embedding Size\n",
    "encoding_embedding_size = 256\n",
    "decoding_embedding_size = 256\n",
    "# Learning Rate\n",
    "learning_rate = .01\n",
    "# Dropout Keep Probability\n",
    "keep_probability = .75\n",
    "display_step = 10"
   ]
  },
  {
   "cell_type": "markdown",
   "metadata": {},
   "source": [
    "### Build the Graph\n",
    "Build the graph using the neural network you implemented."
   ]
  },
  {
   "cell_type": "code",
   "execution_count": 15,
   "metadata": {
    "collapsed": true
   },
   "outputs": [],
   "source": [
    "\"\"\"\n",
    "DON'T MODIFY ANYTHING IN THIS CELL\n",
    "\"\"\"\n",
    "save_path = 'checkpoints/dev'\n",
    "(source_int_text, target_int_text), (source_vocab_to_int, target_vocab_to_int), _ = helper.load_preprocess()\n",
    "max_target_sentence_length = max([len(sentence) for sentence in source_int_text])\n",
    "\n",
    "train_graph = tf.Graph()\n",
    "with train_graph.as_default():\n",
    "    input_data, targets, lr, keep_prob, target_sequence_length, max_target_sequence_length, source_sequence_length = model_inputs()\n",
    "\n",
    "    #sequence_length = tf.placeholder_with_default(max_target_sentence_length, None, name='sequence_length')\n",
    "    input_shape = tf.shape(input_data)\n",
    "\n",
    "    train_logits, inference_logits = seq2seq_model(tf.reverse(input_data, [-1]),\n",
    "                                                   targets,\n",
    "                                                   keep_prob,\n",
    "                                                   batch_size,\n",
    "                                                   source_sequence_length,\n",
    "                                                   target_sequence_length,\n",
    "                                                   max_target_sequence_length,\n",
    "                                                   len(source_vocab_to_int),\n",
    "                                                   len(target_vocab_to_int),\n",
    "                                                   encoding_embedding_size,\n",
    "                                                   decoding_embedding_size,\n",
    "                                                   rnn_size,\n",
    "                                                   num_layers,\n",
    "                                                   target_vocab_to_int)\n",
    "\n",
    "\n",
    "    training_logits = tf.identity(train_logits.rnn_output, name='logits')\n",
    "    inference_logits = tf.identity(inference_logits.sample_id, name='predictions')\n",
    "\n",
    "    masks = tf.sequence_mask(target_sequence_length, max_target_sequence_length, dtype=tf.float32, name='masks')\n",
    "\n",
    "    with tf.name_scope(\"optimization\"):\n",
    "        # Loss function\n",
    "        cost = tf.contrib.seq2seq.sequence_loss(\n",
    "            training_logits,\n",
    "            targets,\n",
    "            masks)\n",
    "\n",
    "        # Optimizer\n",
    "        optimizer = tf.train.AdamOptimizer(lr)\n",
    "\n",
    "        # Gradient Clipping\n",
    "        gradients = optimizer.compute_gradients(cost)\n",
    "        capped_gradients = [(tf.clip_by_value(grad, -1., 1.), var) for grad, var in gradients if grad is not None]\n",
    "        train_op = optimizer.apply_gradients(capped_gradients)\n"
   ]
  },
  {
   "cell_type": "markdown",
   "metadata": {},
   "source": [
    "Batch and pad the source and target sequences"
   ]
  },
  {
   "cell_type": "code",
   "execution_count": 16,
   "metadata": {
    "collapsed": true
   },
   "outputs": [],
   "source": [
    "\"\"\"\n",
    "DON'T MODIFY ANYTHING IN THIS CELL\n",
    "\"\"\"\n",
    "def pad_sentence_batch(sentence_batch, pad_int):\n",
    "    \"\"\"Pad sentences with <PAD> so that each sentence of a batch has the same length\"\"\"\n",
    "    max_sentence = max([len(sentence) for sentence in sentence_batch])\n",
    "    return [sentence + [pad_int] * (max_sentence - len(sentence)) for sentence in sentence_batch]\n",
    "\n",
    "\n",
    "def get_batches(sources, targets, batch_size, source_pad_int, target_pad_int):\n",
    "    \"\"\"Batch targets, sources, and the lengths of their sentences together\"\"\"\n",
    "    for batch_i in range(0, len(sources)//batch_size):\n",
    "        start_i = batch_i * batch_size\n",
    "\n",
    "        # Slice the right amount for the batch\n",
    "        sources_batch = sources[start_i:start_i + batch_size]\n",
    "        targets_batch = targets[start_i:start_i + batch_size]\n",
    "\n",
    "        # Pad\n",
    "        pad_sources_batch = np.array(pad_sentence_batch(sources_batch, source_pad_int))\n",
    "        pad_targets_batch = np.array(pad_sentence_batch(targets_batch, target_pad_int))\n",
    "\n",
    "        # Need the lengths for the _lengths parameters\n",
    "        pad_targets_lengths = []\n",
    "        for target in pad_targets_batch:\n",
    "            pad_targets_lengths.append(len(target))\n",
    "\n",
    "        pad_source_lengths = []\n",
    "        for source in pad_sources_batch:\n",
    "            pad_source_lengths.append(len(source))\n",
    "\n",
    "        yield pad_sources_batch, pad_targets_batch, pad_source_lengths, pad_targets_lengths\n"
   ]
  },
  {
   "cell_type": "markdown",
   "metadata": {},
   "source": [
    "### Train\n",
    "Train the neural network on the preprocessed data. If you have a hard time getting a good loss, check the forms to see if anyone is having the same problem."
   ]
  },
  {
   "cell_type": "code",
   "execution_count": 17,
   "metadata": {
    "scrolled": true
   },
   "outputs": [
    {
     "name": "stdout",
     "output_type": "stream",
     "text": [
      "Epoch   0 Batch   10/269 - Train Accuracy: 0.2910, Validation Accuracy: 0.3601, Loss: 3.2666\n",
      "Epoch   0 Batch   20/269 - Train Accuracy: 0.3225, Validation Accuracy: 0.3829, Loss: 3.0158\n",
      "Epoch   0 Batch   30/269 - Train Accuracy: 0.3542, Validation Accuracy: 0.3842, Loss: 2.7730\n",
      "Epoch   0 Batch   40/269 - Train Accuracy: 0.3584, Validation Accuracy: 0.4113, Loss: 2.6369\n",
      "Epoch   0 Batch   50/269 - Train Accuracy: 0.3928, Validation Accuracy: 0.4435, Loss: 2.4848\n",
      "Epoch   0 Batch   60/269 - Train Accuracy: 0.4489, Validation Accuracy: 0.4510, Loss: 2.1559\n",
      "Epoch   0 Batch   70/269 - Train Accuracy: 0.4372, Validation Accuracy: 0.4553, Loss: 2.1378\n",
      "Epoch   0 Batch   80/269 - Train Accuracy: 0.4352, Validation Accuracy: 0.4533, Loss: 2.0523\n",
      "Epoch   0 Batch   90/269 - Train Accuracy: 0.4006, Validation Accuracy: 0.4619, Loss: 2.0361\n",
      "Epoch   0 Batch  100/269 - Train Accuracy: 0.4372, Validation Accuracy: 0.4545, Loss: 1.7840\n",
      "Epoch   0 Batch  110/269 - Train Accuracy: 0.4292, Validation Accuracy: 0.4587, Loss: 1.7377\n",
      "Epoch   0 Batch  120/269 - Train Accuracy: 0.4061, Validation Accuracy: 0.4648, Loss: 1.7245\n",
      "Epoch   0 Batch  130/269 - Train Accuracy: 0.3981, Validation Accuracy: 0.4665, Loss: 1.7090\n",
      "Epoch   0 Batch  140/269 - Train Accuracy: 0.4145, Validation Accuracy: 0.4412, Loss: 1.4515\n",
      "Epoch   0 Batch  150/269 - Train Accuracy: 0.4382, Validation Accuracy: 0.4533, Loss: 1.3963\n",
      "Epoch   0 Batch  160/269 - Train Accuracy: 0.4239, Validation Accuracy: 0.4430, Loss: 1.3267\n",
      "Epoch   0 Batch  170/269 - Train Accuracy: 0.4156, Validation Accuracy: 0.4467, Loss: 1.1963\n",
      "Epoch   0 Batch  180/269 - Train Accuracy: 0.4343, Validation Accuracy: 0.4588, Loss: 1.1302\n",
      "Epoch   0 Batch  190/269 - Train Accuracy: 0.4341, Validation Accuracy: 0.4454, Loss: 1.0655\n",
      "Epoch   0 Batch  200/269 - Train Accuracy: 0.4148, Validation Accuracy: 0.4500, Loss: 1.0835\n",
      "Epoch   0 Batch  210/269 - Train Accuracy: 0.4391, Validation Accuracy: 0.4461, Loss: 0.9765\n",
      "Epoch   0 Batch  220/269 - Train Accuracy: 0.4064, Validation Accuracy: 0.4289, Loss: 0.9084\n",
      "Epoch   0 Batch  230/269 - Train Accuracy: 0.4267, Validation Accuracy: 0.4461, Loss: 0.9201\n",
      "Epoch   0 Batch  240/269 - Train Accuracy: 0.4929, Validation Accuracy: 0.4589, Loss: 0.8125\n",
      "Epoch   0 Batch  250/269 - Train Accuracy: 0.4285, Validation Accuracy: 0.4601, Loss: 0.8731\n",
      "Epoch   0 Batch  260/269 - Train Accuracy: 0.4491, Validation Accuracy: 0.4775, Loss: 0.8681\n",
      "Epoch   1 Batch   10/269 - Train Accuracy: 0.4559, Validation Accuracy: 0.4835, Loss: 0.8086\n",
      "Epoch   1 Batch   20/269 - Train Accuracy: 0.4854, Validation Accuracy: 0.4996, Loss: 0.8012\n",
      "Epoch   1 Batch   30/269 - Train Accuracy: 0.4935, Validation Accuracy: 0.4875, Loss: 0.7522\n",
      "Epoch   1 Batch   40/269 - Train Accuracy: 0.4826, Validation Accuracy: 0.5067, Loss: 0.7760\n",
      "Epoch   1 Batch   50/269 - Train Accuracy: 0.4928, Validation Accuracy: 0.5200, Loss: 0.7581\n",
      "Epoch   1 Batch   60/269 - Train Accuracy: 0.5384, Validation Accuracy: 0.5252, Loss: 0.6724\n",
      "Epoch   1 Batch   70/269 - Train Accuracy: 0.5370, Validation Accuracy: 0.5313, Loss: 0.6989\n",
      "Epoch   1 Batch   80/269 - Train Accuracy: 0.5265, Validation Accuracy: 0.5105, Loss: 0.6772\n",
      "Epoch   1 Batch   90/269 - Train Accuracy: 0.5058, Validation Accuracy: 0.5366, Loss: 0.7066\n",
      "Epoch   1 Batch  100/269 - Train Accuracy: 0.5804, Validation Accuracy: 0.5437, Loss: 0.6459\n",
      "Epoch   1 Batch  110/269 - Train Accuracy: 0.5606, Validation Accuracy: 0.5391, Loss: 0.6368\n",
      "Epoch   1 Batch  120/269 - Train Accuracy: 0.5638, Validation Accuracy: 0.5632, Loss: 0.6551\n",
      "Epoch   1 Batch  130/269 - Train Accuracy: 0.5090, Validation Accuracy: 0.5430, Loss: 0.6568\n",
      "Epoch   1 Batch  140/269 - Train Accuracy: 0.5453, Validation Accuracy: 0.5397, Loss: 0.6304\n",
      "Epoch   1 Batch  150/269 - Train Accuracy: 0.5696, Validation Accuracy: 0.5452, Loss: 0.6169\n",
      "Epoch   1 Batch  160/269 - Train Accuracy: 0.5748, Validation Accuracy: 0.5688, Loss: 0.5954\n",
      "Epoch   1 Batch  170/269 - Train Accuracy: 0.5646, Validation Accuracy: 0.5672, Loss: 0.5877\n",
      "Epoch   1 Batch  180/269 - Train Accuracy: 0.5735, Validation Accuracy: 0.5724, Loss: 0.5923\n",
      "Epoch   1 Batch  190/269 - Train Accuracy: 0.5737, Validation Accuracy: 0.5602, Loss: 0.5744\n",
      "Epoch   1 Batch  200/269 - Train Accuracy: 0.5659, Validation Accuracy: 0.5669, Loss: 0.5931\n",
      "Epoch   1 Batch  210/269 - Train Accuracy: 0.5426, Validation Accuracy: 0.5736, Loss: 0.5610\n",
      "Epoch   1 Batch  220/269 - Train Accuracy: 0.5958, Validation Accuracy: 0.5801, Loss: 0.5335\n",
      "Epoch   1 Batch  230/269 - Train Accuracy: 0.5692, Validation Accuracy: 0.5721, Loss: 0.5593\n",
      "Epoch   1 Batch  240/269 - Train Accuracy: 0.5848, Validation Accuracy: 0.5661, Loss: 0.5108\n",
      "Epoch   1 Batch  250/269 - Train Accuracy: 0.5743, Validation Accuracy: 0.5728, Loss: 0.5578\n",
      "Epoch   1 Batch  260/269 - Train Accuracy: 0.5749, Validation Accuracy: 0.5830, Loss: 0.5730\n",
      "Epoch   2 Batch   10/269 - Train Accuracy: 0.5735, Validation Accuracy: 0.5777, Loss: 0.5558\n",
      "Epoch   2 Batch   20/269 - Train Accuracy: 0.5789, Validation Accuracy: 0.5932, Loss: 0.5500\n",
      "Epoch   2 Batch   30/269 - Train Accuracy: 0.5969, Validation Accuracy: 0.5930, Loss: 0.5225\n",
      "Epoch   2 Batch   40/269 - Train Accuracy: 0.5761, Validation Accuracy: 0.5904, Loss: 0.5416\n",
      "Epoch   2 Batch   50/269 - Train Accuracy: 0.5773, Validation Accuracy: 0.5858, Loss: 0.5416\n",
      "Epoch   2 Batch   60/269 - Train Accuracy: 0.6083, Validation Accuracy: 0.6014, Loss: 0.4824\n",
      "Epoch   2 Batch   70/269 - Train Accuracy: 0.6349, Validation Accuracy: 0.6260, Loss: 0.4914\n",
      "Epoch   2 Batch   80/269 - Train Accuracy: 0.6288, Validation Accuracy: 0.6248, Loss: 0.4846\n",
      "Epoch   2 Batch   90/269 - Train Accuracy: 0.6207, Validation Accuracy: 0.6535, Loss: 0.4960\n",
      "Epoch   2 Batch  100/269 - Train Accuracy: 0.6457, Validation Accuracy: 0.6379, Loss: 0.4690\n",
      "Epoch   2 Batch  110/269 - Train Accuracy: 0.6403, Validation Accuracy: 0.6398, Loss: 0.4512\n",
      "Epoch   2 Batch  120/269 - Train Accuracy: 0.6443, Validation Accuracy: 0.6404, Loss: 0.4681\n",
      "Epoch   2 Batch  130/269 - Train Accuracy: 0.6187, Validation Accuracy: 0.6626, Loss: 0.4662\n",
      "Epoch   2 Batch  140/269 - Train Accuracy: 0.6791, Validation Accuracy: 0.6664, Loss: 0.4547\n",
      "Epoch   2 Batch  150/269 - Train Accuracy: 0.6642, Validation Accuracy: 0.6653, Loss: 0.4370\n",
      "Epoch   2 Batch  160/269 - Train Accuracy: 0.6824, Validation Accuracy: 0.6852, Loss: 0.4258\n",
      "Epoch   2 Batch  170/269 - Train Accuracy: 0.6760, Validation Accuracy: 0.6809, Loss: 0.4217\n",
      "Epoch   2 Batch  180/269 - Train Accuracy: 0.6667, Validation Accuracy: 0.6586, Loss: 0.4230\n",
      "Epoch   2 Batch  190/269 - Train Accuracy: 0.6231, Validation Accuracy: 0.6175, Loss: 0.4618\n",
      "Epoch   2 Batch  200/269 - Train Accuracy: 0.6507, Validation Accuracy: 0.6555, Loss: 0.4554\n",
      "Epoch   2 Batch  210/269 - Train Accuracy: 0.6718, Validation Accuracy: 0.6700, Loss: 0.4211\n",
      "Epoch   2 Batch  220/269 - Train Accuracy: 0.6936, Validation Accuracy: 0.6824, Loss: 0.3950\n",
      "Epoch   2 Batch  230/269 - Train Accuracy: 0.6926, Validation Accuracy: 0.6828, Loss: 0.4145\n",
      "Epoch   2 Batch  240/269 - Train Accuracy: 0.7117, Validation Accuracy: 0.6757, Loss: 0.3719\n",
      "Epoch   2 Batch  250/269 - Train Accuracy: 0.7026, Validation Accuracy: 0.6981, Loss: 0.4125\n",
      "Epoch   2 Batch  260/269 - Train Accuracy: 0.6696, Validation Accuracy: 0.6919, Loss: 0.4195\n",
      "Epoch   3 Batch   10/269 - Train Accuracy: 0.6928, Validation Accuracy: 0.6950, Loss: 0.4047\n",
      "Epoch   3 Batch   20/269 - Train Accuracy: 0.6866, Validation Accuracy: 0.7084, Loss: 0.3993\n",
      "Epoch   3 Batch   30/269 - Train Accuracy: 0.7128, Validation Accuracy: 0.7043, Loss: 0.3847\n",
      "Epoch   3 Batch   40/269 - Train Accuracy: 0.6990, Validation Accuracy: 0.7044, Loss: 0.3996\n",
      "Epoch   3 Batch   50/269 - Train Accuracy: 0.6747, Validation Accuracy: 0.7045, Loss: 0.3987\n",
      "Epoch   3 Batch   60/269 - Train Accuracy: 0.7048, Validation Accuracy: 0.7021, Loss: 0.3534\n",
      "Epoch   3 Batch   70/269 - Train Accuracy: 0.7316, Validation Accuracy: 0.7048, Loss: 0.3620\n",
      "Epoch   3 Batch   80/269 - Train Accuracy: 0.7234, Validation Accuracy: 0.7125, Loss: 0.3650\n",
      "Epoch   3 Batch   90/269 - Train Accuracy: 0.6931, Validation Accuracy: 0.7124, Loss: 0.3825\n",
      "Epoch   3 Batch  100/269 - Train Accuracy: 0.7262, Validation Accuracy: 0.7251, Loss: 0.3579\n",
      "Epoch   3 Batch  110/269 - Train Accuracy: 0.7280, Validation Accuracy: 0.7233, Loss: 0.3485\n"
     ]
    },
    {
     "name": "stdout",
     "output_type": "stream",
     "text": [
      "Epoch   3 Batch  120/269 - Train Accuracy: 0.7147, Validation Accuracy: 0.7277, Loss: 0.3699\n",
      "Epoch   3 Batch  130/269 - Train Accuracy: 0.7136, Validation Accuracy: 0.7243, Loss: 0.3691\n",
      "Epoch   3 Batch  140/269 - Train Accuracy: 0.7205, Validation Accuracy: 0.7280, Loss: 0.3599\n",
      "Epoch   3 Batch  150/269 - Train Accuracy: 0.7313, Validation Accuracy: 0.7396, Loss: 0.3469\n",
      "Epoch   3 Batch  160/269 - Train Accuracy: 0.7424, Validation Accuracy: 0.7321, Loss: 0.3357\n",
      "Epoch   3 Batch  170/269 - Train Accuracy: 0.7279, Validation Accuracy: 0.7273, Loss: 0.3328\n",
      "Epoch   3 Batch  180/269 - Train Accuracy: 0.7390, Validation Accuracy: 0.7236, Loss: 0.3359\n",
      "Epoch   3 Batch  190/269 - Train Accuracy: 0.7382, Validation Accuracy: 0.7190, Loss: 0.3260\n",
      "Epoch   3 Batch  200/269 - Train Accuracy: 0.7155, Validation Accuracy: 0.7232, Loss: 0.3387\n",
      "Epoch   3 Batch  210/269 - Train Accuracy: 0.7388, Validation Accuracy: 0.7398, Loss: 0.3227\n",
      "Epoch   3 Batch  220/269 - Train Accuracy: 0.7478, Validation Accuracy: 0.7345, Loss: 0.3048\n",
      "Epoch   3 Batch  230/269 - Train Accuracy: 0.7361, Validation Accuracy: 0.7380, Loss: 0.3203\n",
      "Epoch   3 Batch  240/269 - Train Accuracy: 0.7632, Validation Accuracy: 0.7398, Loss: 0.2967\n",
      "Epoch   3 Batch  250/269 - Train Accuracy: 0.7636, Validation Accuracy: 0.7219, Loss: 0.3196\n",
      "Epoch   3 Batch  260/269 - Train Accuracy: 0.7232, Validation Accuracy: 0.7446, Loss: 0.3337\n",
      "Epoch   4 Batch   10/269 - Train Accuracy: 0.7447, Validation Accuracy: 0.7485, Loss: 0.3181\n",
      "Epoch   4 Batch   20/269 - Train Accuracy: 0.7491, Validation Accuracy: 0.7467, Loss: 0.3173\n",
      "Epoch   4 Batch   30/269 - Train Accuracy: 0.7596, Validation Accuracy: 0.7433, Loss: 0.3020\n",
      "Epoch   4 Batch   40/269 - Train Accuracy: 0.7510, Validation Accuracy: 0.7631, Loss: 0.3147\n",
      "Epoch   4 Batch   50/269 - Train Accuracy: 0.7257, Validation Accuracy: 0.7549, Loss: 0.3152\n",
      "Epoch   4 Batch   60/269 - Train Accuracy: 0.7660, Validation Accuracy: 0.7471, Loss: 0.2794\n",
      "Epoch   4 Batch   70/269 - Train Accuracy: 0.7772, Validation Accuracy: 0.7338, Loss: 0.2826\n",
      "Epoch   4 Batch   80/269 - Train Accuracy: 0.7611, Validation Accuracy: 0.7504, Loss: 0.2897\n",
      "Epoch   4 Batch   90/269 - Train Accuracy: 0.7571, Validation Accuracy: 0.7593, Loss: 0.3007\n",
      "Epoch   4 Batch  100/269 - Train Accuracy: 0.7739, Validation Accuracy: 0.7568, Loss: 0.2770\n",
      "Epoch   4 Batch  110/269 - Train Accuracy: 0.7688, Validation Accuracy: 0.7380, Loss: 0.2679\n",
      "Epoch   4 Batch  120/269 - Train Accuracy: 0.7573, Validation Accuracy: 0.7434, Loss: 0.2860\n",
      "Epoch   4 Batch  130/269 - Train Accuracy: 0.7510, Validation Accuracy: 0.7556, Loss: 0.2852\n",
      "Epoch   4 Batch  140/269 - Train Accuracy: 0.7662, Validation Accuracy: 0.7662, Loss: 0.2816\n",
      "Epoch   4 Batch  150/269 - Train Accuracy: 0.7712, Validation Accuracy: 0.7543, Loss: 0.2747\n",
      "Epoch   4 Batch  160/269 - Train Accuracy: 0.7681, Validation Accuracy: 0.7681, Loss: 0.2700\n",
      "Epoch   4 Batch  170/269 - Train Accuracy: 0.7732, Validation Accuracy: 0.7617, Loss: 0.2666\n",
      "Epoch   4 Batch  180/269 - Train Accuracy: 0.7752, Validation Accuracy: 0.7658, Loss: 0.2617\n",
      "Epoch   4 Batch  190/269 - Train Accuracy: 0.7682, Validation Accuracy: 0.7669, Loss: 0.2514\n",
      "Epoch   4 Batch  200/269 - Train Accuracy: 0.7648, Validation Accuracy: 0.7755, Loss: 0.2639\n",
      "Epoch   4 Batch  210/269 - Train Accuracy: 0.7680, Validation Accuracy: 0.7622, Loss: 0.2546\n",
      "Epoch   4 Batch  220/269 - Train Accuracy: 0.7910, Validation Accuracy: 0.7812, Loss: 0.2430\n",
      "Epoch   4 Batch  230/269 - Train Accuracy: 0.7864, Validation Accuracy: 0.7785, Loss: 0.2488\n",
      "Epoch   4 Batch  240/269 - Train Accuracy: 0.8071, Validation Accuracy: 0.7769, Loss: 0.2299\n",
      "Epoch   4 Batch  250/269 - Train Accuracy: 0.7944, Validation Accuracy: 0.7640, Loss: 0.2506\n",
      "Epoch   4 Batch  260/269 - Train Accuracy: 0.7703, Validation Accuracy: 0.7830, Loss: 0.2627\n",
      "Epoch   5 Batch   10/269 - Train Accuracy: 0.7895, Validation Accuracy: 0.7777, Loss: 0.2492\n",
      "Epoch   5 Batch   20/269 - Train Accuracy: 0.7815, Validation Accuracy: 0.7885, Loss: 0.2523\n",
      "Epoch   5 Batch   30/269 - Train Accuracy: 0.7772, Validation Accuracy: 0.7840, Loss: 0.2407\n",
      "Epoch   5 Batch   40/269 - Train Accuracy: 0.7861, Validation Accuracy: 0.7917, Loss: 0.2529\n",
      "Epoch   5 Batch   50/269 - Train Accuracy: 0.7660, Validation Accuracy: 0.7915, Loss: 0.2518\n",
      "Epoch   5 Batch   60/269 - Train Accuracy: 0.8026, Validation Accuracy: 0.7800, Loss: 0.2174\n",
      "Epoch   5 Batch   70/269 - Train Accuracy: 0.8134, Validation Accuracy: 0.7961, Loss: 0.2206\n",
      "Epoch   5 Batch   80/269 - Train Accuracy: 0.8025, Validation Accuracy: 0.7960, Loss: 0.2168\n",
      "Epoch   5 Batch   90/269 - Train Accuracy: 0.8083, Validation Accuracy: 0.8039, Loss: 0.2246\n",
      "Epoch   5 Batch  100/269 - Train Accuracy: 0.8123, Validation Accuracy: 0.8018, Loss: 0.2140\n",
      "Epoch   5 Batch  110/269 - Train Accuracy: 0.8065, Validation Accuracy: 0.7808, Loss: 0.2008\n",
      "Epoch   5 Batch  120/269 - Train Accuracy: 0.8048, Validation Accuracy: 0.8048, Loss: 0.2143\n",
      "Epoch   5 Batch  130/269 - Train Accuracy: 0.8164, Validation Accuracy: 0.8065, Loss: 0.2168\n",
      "Epoch   5 Batch  140/269 - Train Accuracy: 0.8154, Validation Accuracy: 0.8147, Loss: 0.2097\n",
      "Epoch   5 Batch  150/269 - Train Accuracy: 0.8182, Validation Accuracy: 0.8002, Loss: 0.2099\n",
      "Epoch   5 Batch  160/269 - Train Accuracy: 0.8255, Validation Accuracy: 0.8230, Loss: 0.2000\n",
      "Epoch   5 Batch  170/269 - Train Accuracy: 0.8192, Validation Accuracy: 0.8189, Loss: 0.1914\n",
      "Epoch   5 Batch  180/269 - Train Accuracy: 0.8297, Validation Accuracy: 0.8244, Loss: 0.2010\n",
      "Epoch   5 Batch  190/269 - Train Accuracy: 0.8065, Validation Accuracy: 0.8148, Loss: 0.1855\n",
      "Epoch   5 Batch  200/269 - Train Accuracy: 0.8093, Validation Accuracy: 0.8150, Loss: 0.1901\n",
      "Epoch   5 Batch  210/269 - Train Accuracy: 0.8124, Validation Accuracy: 0.8311, Loss: 0.1850\n",
      "Epoch   5 Batch  220/269 - Train Accuracy: 0.8308, Validation Accuracy: 0.8327, Loss: 0.1699\n",
      "Epoch   5 Batch  230/269 - Train Accuracy: 0.8445, Validation Accuracy: 0.8327, Loss: 0.1756\n",
      "Epoch   5 Batch  240/269 - Train Accuracy: 0.8504, Validation Accuracy: 0.8264, Loss: 0.1639\n",
      "Epoch   5 Batch  250/269 - Train Accuracy: 0.8467, Validation Accuracy: 0.8203, Loss: 0.1801\n",
      "Epoch   5 Batch  260/269 - Train Accuracy: 0.8197, Validation Accuracy: 0.8291, Loss: 0.1887\n",
      "Epoch   6 Batch   10/269 - Train Accuracy: 0.8375, Validation Accuracy: 0.8439, Loss: 0.1719\n",
      "Epoch   6 Batch   20/269 - Train Accuracy: 0.8367, Validation Accuracy: 0.8343, Loss: 0.1782\n",
      "Epoch   6 Batch   30/269 - Train Accuracy: 0.8305, Validation Accuracy: 0.8376, Loss: 0.1643\n",
      "Epoch   6 Batch   40/269 - Train Accuracy: 0.8316, Validation Accuracy: 0.8389, Loss: 0.1753\n",
      "Epoch   6 Batch   50/269 - Train Accuracy: 0.8206, Validation Accuracy: 0.8445, Loss: 0.1761\n",
      "Epoch   6 Batch   60/269 - Train Accuracy: 0.8530, Validation Accuracy: 0.8322, Loss: 0.1514\n",
      "Epoch   6 Batch   70/269 - Train Accuracy: 0.8694, Validation Accuracy: 0.8366, Loss: 0.1535\n",
      "Epoch   6 Batch   80/269 - Train Accuracy: 0.8345, Validation Accuracy: 0.8328, Loss: 0.1545\n",
      "Epoch   6 Batch   90/269 - Train Accuracy: 0.8491, Validation Accuracy: 0.8361, Loss: 0.1522\n",
      "Epoch   6 Batch  100/269 - Train Accuracy: 0.8566, Validation Accuracy: 0.8466, Loss: 0.1441\n",
      "Epoch   6 Batch  110/269 - Train Accuracy: 0.8596, Validation Accuracy: 0.8294, Loss: 0.1425\n",
      "Epoch   6 Batch  120/269 - Train Accuracy: 0.8343, Validation Accuracy: 0.8438, Loss: 0.1499\n",
      "Epoch   6 Batch  130/269 - Train Accuracy: 0.8450, Validation Accuracy: 0.8464, Loss: 0.1500\n",
      "Epoch   6 Batch  140/269 - Train Accuracy: 0.8365, Validation Accuracy: 0.8479, Loss: 0.1471\n",
      "Epoch   6 Batch  150/269 - Train Accuracy: 0.8609, Validation Accuracy: 0.8588, Loss: 0.1446\n",
      "Epoch   6 Batch  160/269 - Train Accuracy: 0.8583, Validation Accuracy: 0.8596, Loss: 0.1419\n",
      "Epoch   6 Batch  170/269 - Train Accuracy: 0.8520, Validation Accuracy: 0.8642, Loss: 0.1361\n",
      "Epoch   6 Batch  180/269 - Train Accuracy: 0.8731, Validation Accuracy: 0.8785, Loss: 0.1312\n",
      "Epoch   6 Batch  190/269 - Train Accuracy: 0.8709, Validation Accuracy: 0.8643, Loss: 0.1259\n",
      "Epoch   6 Batch  200/269 - Train Accuracy: 0.8528, Validation Accuracy: 0.8583, Loss: 0.1350\n",
      "Epoch   6 Batch  210/269 - Train Accuracy: 0.8526, Validation Accuracy: 0.8679, Loss: 0.1315\n",
      "Epoch   6 Batch  220/269 - Train Accuracy: 0.8573, Validation Accuracy: 0.8701, Loss: 0.1235\n"
     ]
    },
    {
     "name": "stdout",
     "output_type": "stream",
     "text": [
      "Epoch   6 Batch  230/269 - Train Accuracy: 0.8703, Validation Accuracy: 0.8768, Loss: 0.1226\n",
      "Epoch   6 Batch  240/269 - Train Accuracy: 0.8777, Validation Accuracy: 0.8583, Loss: 0.1127\n",
      "Epoch   6 Batch  250/269 - Train Accuracy: 0.8686, Validation Accuracy: 0.8616, Loss: 0.1272\n",
      "Epoch   6 Batch  260/269 - Train Accuracy: 0.8496, Validation Accuracy: 0.8637, Loss: 0.1337\n",
      "Epoch   7 Batch   10/269 - Train Accuracy: 0.8731, Validation Accuracy: 0.8686, Loss: 0.1233\n",
      "Epoch   7 Batch   20/269 - Train Accuracy: 0.8652, Validation Accuracy: 0.8784, Loss: 0.1234\n",
      "Epoch   7 Batch   30/269 - Train Accuracy: 0.8711, Validation Accuracy: 0.8760, Loss: 0.1145\n",
      "Epoch   7 Batch   40/269 - Train Accuracy: 0.8553, Validation Accuracy: 0.8729, Loss: 0.1245\n",
      "Epoch   7 Batch   50/269 - Train Accuracy: 0.8556, Validation Accuracy: 0.8669, Loss: 0.1270\n",
      "Epoch   7 Batch   60/269 - Train Accuracy: 0.8797, Validation Accuracy: 0.8725, Loss: 0.1084\n",
      "Epoch   7 Batch   70/269 - Train Accuracy: 0.8990, Validation Accuracy: 0.8720, Loss: 0.1100\n",
      "Epoch   7 Batch   80/269 - Train Accuracy: 0.8750, Validation Accuracy: 0.8719, Loss: 0.1086\n",
      "Epoch   7 Batch   90/269 - Train Accuracy: 0.8780, Validation Accuracy: 0.8677, Loss: 0.1119\n",
      "Epoch   7 Batch  100/269 - Train Accuracy: 0.8703, Validation Accuracy: 0.8765, Loss: 0.1067\n",
      "Epoch   7 Batch  110/269 - Train Accuracy: 0.8801, Validation Accuracy: 0.8744, Loss: 0.0981\n",
      "Epoch   7 Batch  120/269 - Train Accuracy: 0.8781, Validation Accuracy: 0.8875, Loss: 0.1097\n",
      "Epoch   7 Batch  130/269 - Train Accuracy: 0.8805, Validation Accuracy: 0.8759, Loss: 0.1067\n",
      "Epoch   7 Batch  140/269 - Train Accuracy: 0.8727, Validation Accuracy: 0.8819, Loss: 0.1086\n",
      "Epoch   7 Batch  150/269 - Train Accuracy: 0.8851, Validation Accuracy: 0.8769, Loss: 0.1037\n",
      "Epoch   7 Batch  160/269 - Train Accuracy: 0.8944, Validation Accuracy: 0.8839, Loss: 0.1012\n",
      "Epoch   7 Batch  170/269 - Train Accuracy: 0.8900, Validation Accuracy: 0.8823, Loss: 0.1001\n",
      "Epoch   7 Batch  180/269 - Train Accuracy: 0.9080, Validation Accuracy: 0.8832, Loss: 0.0935\n",
      "Epoch   7 Batch  190/269 - Train Accuracy: 0.8914, Validation Accuracy: 0.8933, Loss: 0.0959\n",
      "Epoch   7 Batch  200/269 - Train Accuracy: 0.8723, Validation Accuracy: 0.8917, Loss: 0.0948\n",
      "Epoch   7 Batch  210/269 - Train Accuracy: 0.8807, Validation Accuracy: 0.8858, Loss: 0.0956\n",
      "Epoch   7 Batch  220/269 - Train Accuracy: 0.8936, Validation Accuracy: 0.8893, Loss: 0.0947\n",
      "Epoch   7 Batch  230/269 - Train Accuracy: 0.8964, Validation Accuracy: 0.8910, Loss: 0.0943\n",
      "Epoch   7 Batch  240/269 - Train Accuracy: 0.8933, Validation Accuracy: 0.8880, Loss: 0.0854\n",
      "Epoch   7 Batch  250/269 - Train Accuracy: 0.8973, Validation Accuracy: 0.8807, Loss: 0.0938\n",
      "Epoch   7 Batch  260/269 - Train Accuracy: 0.8809, Validation Accuracy: 0.8897, Loss: 0.1000\n",
      "Model Trained and Saved\n"
     ]
    }
   ],
   "source": [
    "\"\"\"\n",
    "DON'T MODIFY ANYTHING IN THIS CELL\n",
    "\"\"\"\n",
    "def get_accuracy(target, logits):\n",
    "    \"\"\"\n",
    "    Calculate accuracy\n",
    "    \"\"\"\n",
    "    max_seq = max(target.shape[1], logits.shape[1])\n",
    "    if max_seq - target.shape[1]:\n",
    "        target = np.pad(\n",
    "            target,\n",
    "            [(0,0),(0,max_seq - target.shape[1])],\n",
    "            'constant')\n",
    "    if max_seq - logits.shape[1]:\n",
    "        logits = np.pad(\n",
    "            logits,\n",
    "            [(0,0),(0,max_seq - logits.shape[1])],\n",
    "            'constant')\n",
    "\n",
    "    return np.mean(np.equal(target, logits))\n",
    "\n",
    "# Split data to training and validation sets\n",
    "train_source = source_int_text[batch_size:]\n",
    "train_target = target_int_text[batch_size:]\n",
    "valid_source = source_int_text[:batch_size]\n",
    "valid_target = target_int_text[:batch_size]\n",
    "(valid_sources_batch, valid_targets_batch, valid_sources_lengths, valid_targets_lengths ) = next(get_batches(valid_source,\n",
    "                                                                                                             valid_target,\n",
    "                                                                                                             batch_size,\n",
    "                                                                                                             source_vocab_to_int['<PAD>'],\n",
    "                                                                                                             target_vocab_to_int['<PAD>']))                                                                                                  \n",
    "with tf.Session(graph=train_graph) as sess:\n",
    "    sess.run(tf.global_variables_initializer())\n",
    "\n",
    "    for epoch_i in range(epochs):\n",
    "        for batch_i, (source_batch, target_batch, sources_lengths, targets_lengths) in enumerate(\n",
    "                get_batches(train_source, train_target, batch_size,\n",
    "                            source_vocab_to_int['<PAD>'],\n",
    "                            target_vocab_to_int['<PAD>'])):\n",
    "\n",
    "            _, loss = sess.run(\n",
    "                [train_op, cost],\n",
    "                {input_data: source_batch,\n",
    "                 targets: target_batch,\n",
    "                 lr: learning_rate,\n",
    "                 target_sequence_length: targets_lengths,\n",
    "                 source_sequence_length: sources_lengths,\n",
    "                 keep_prob: keep_probability})\n",
    "\n",
    "\n",
    "            if batch_i % display_step == 0 and batch_i > 0:\n",
    "\n",
    "\n",
    "                batch_train_logits = sess.run(\n",
    "                    inference_logits,\n",
    "                    {input_data: source_batch,\n",
    "                     source_sequence_length: sources_lengths,\n",
    "                     target_sequence_length: targets_lengths,\n",
    "                     keep_prob: 1.0})\n",
    "\n",
    "\n",
    "                batch_valid_logits = sess.run(\n",
    "                    inference_logits,\n",
    "                    {input_data: valid_sources_batch,\n",
    "                     source_sequence_length: valid_sources_lengths,\n",
    "                     target_sequence_length: valid_targets_lengths,\n",
    "                     keep_prob: 1.0})\n",
    "\n",
    "                train_acc = get_accuracy(target_batch, batch_train_logits)\n",
    "\n",
    "                valid_acc = get_accuracy(valid_targets_batch, batch_valid_logits)\n",
    "\n",
    "                print('Epoch {:>3} Batch {:>4}/{} - Train Accuracy: {:>6.4f}, Validation Accuracy: {:>6.4f}, Loss: {:>6.4f}'\n",
    "                      .format(epoch_i, batch_i, len(source_int_text) // batch_size, train_acc, valid_acc, loss))\n",
    "\n",
    "    # Save Model\n",
    "    saver = tf.train.Saver()\n",
    "    saver.save(sess, save_path)\n",
    "    print('Model Trained and Saved')"
   ]
  },
  {
   "cell_type": "markdown",
   "metadata": {},
   "source": [
    "### Save Parameters\n",
    "Save the `batch_size` and `save_path` parameters for inference."
   ]
  },
  {
   "cell_type": "code",
   "execution_count": 18,
   "metadata": {
    "collapsed": true
   },
   "outputs": [],
   "source": [
    "\"\"\"\n",
    "DON'T MODIFY ANYTHING IN THIS CELL\n",
    "\"\"\"\n",
    "# Save parameters for checkpoint\n",
    "helper.save_params(save_path)"
   ]
  },
  {
   "cell_type": "markdown",
   "metadata": {},
   "source": [
    "# Checkpoint"
   ]
  },
  {
   "cell_type": "code",
   "execution_count": 19,
   "metadata": {
    "collapsed": true
   },
   "outputs": [],
   "source": [
    "\"\"\"\n",
    "DON'T MODIFY ANYTHING IN THIS CELL\n",
    "\"\"\"\n",
    "import tensorflow as tf\n",
    "import numpy as np\n",
    "import helper\n",
    "import problem_unittests as tests\n",
    "\n",
    "_, (source_vocab_to_int, target_vocab_to_int), (source_int_to_vocab, target_int_to_vocab) = helper.load_preprocess()\n",
    "load_path = helper.load_params()"
   ]
  },
  {
   "cell_type": "markdown",
   "metadata": {},
   "source": [
    "## Sentence to Sequence\n",
    "To feed a sentence into the model for translation, you first need to preprocess it.  Implement the function `sentence_to_seq()` to preprocess new sentences.\n",
    "\n",
    "- Convert the sentence to lowercase\n",
    "- Convert words into ids using `vocab_to_int`\n",
    " - Convert words not in the vocabulary, to the `<UNK>` word id."
   ]
  },
  {
   "cell_type": "code",
   "execution_count": 20,
   "metadata": {},
   "outputs": [
    {
     "name": "stdout",
     "output_type": "stream",
     "text": [
      "Tests Passed\n"
     ]
    }
   ],
   "source": [
    "def sentence_to_seq(sentence, vocab_to_int):\n",
    "    \"\"\"\n",
    "    Convert a sentence to a sequence of ids\n",
    "    :param sentence: String\n",
    "    :param vocab_to_int: Dictionary to go from the words to an id\n",
    "    :return: List of word ids\n",
    "    \"\"\"\n",
    "    # TODO: Implement Function\n",
    "    unknown = vocab_to_int['<UNK>']\n",
    "    return [vocab_to_int.get(word, unknown) for word in sentence.lower().split()]\n",
    "\n",
    "\n",
    "\"\"\"\n",
    "DON'T MODIFY ANYTHING IN THIS CELL THAT IS BELOW THIS LINE\n",
    "\"\"\"\n",
    "tests.test_sentence_to_seq(sentence_to_seq)"
   ]
  },
  {
   "cell_type": "markdown",
   "metadata": {},
   "source": [
    "## Translate\n",
    "This will translate `translate_sentence` from English to French."
   ]
  },
  {
   "cell_type": "code",
   "execution_count": 21,
   "metadata": {},
   "outputs": [
    {
     "name": "stdout",
     "output_type": "stream",
     "text": [
      "INFO:tensorflow:Restoring parameters from checkpoints/dev\n",
      "Input\n",
      "  Word Ids:      [148, 180, 46, 160, 73, 21, 122]\n",
      "  English Words: ['he', 'saw', 'a', 'old', 'yellow', 'truck', '.']\n",
      "\n",
      "Prediction\n",
      "  Word Ids:      [300, 273, 323, 63, 157, 297, 74, 302, 1]\n",
      "  French Words: il a vu une voiture verte brillante . <EOS>\n"
     ]
    }
   ],
   "source": [
    "translate_sentence = 'he saw a old yellow truck .'\n",
    "\n",
    "\n",
    "\"\"\"\n",
    "DON'T MODIFY ANYTHING IN THIS CELL\n",
    "\"\"\"\n",
    "translate_sentence = sentence_to_seq(translate_sentence, source_vocab_to_int)\n",
    "\n",
    "loaded_graph = tf.Graph()\n",
    "with tf.Session(graph=loaded_graph) as sess:\n",
    "    # Load saved model\n",
    "    loader = tf.train.import_meta_graph(load_path + '.meta')\n",
    "    loader.restore(sess, load_path)\n",
    "\n",
    "    input_data = loaded_graph.get_tensor_by_name('input:0')\n",
    "    logits = loaded_graph.get_tensor_by_name('predictions:0')\n",
    "    target_sequence_length = loaded_graph.get_tensor_by_name('target_sequence_length:0')\n",
    "    source_sequence_length = loaded_graph.get_tensor_by_name('source_sequence_length:0')\n",
    "    keep_prob = loaded_graph.get_tensor_by_name('keep_prob:0')\n",
    "\n",
    "    translate_logits = sess.run(logits, {input_data: [translate_sentence]*batch_size,\n",
    "                                         target_sequence_length: [len(translate_sentence)*2]*batch_size,\n",
    "                                         source_sequence_length: [len(translate_sentence)]*batch_size,\n",
    "                                         keep_prob: 1.0})[0]\n",
    "\n",
    "print('Input')\n",
    "print('  Word Ids:      {}'.format([i for i in translate_sentence]))\n",
    "print('  English Words: {}'.format([source_int_to_vocab[i] for i in translate_sentence]))\n",
    "\n",
    "print('\\nPrediction')\n",
    "print('  Word Ids:      {}'.format([i for i in translate_logits]))\n",
    "print('  French Words: {}'.format(\" \".join([target_int_to_vocab[i] for i in translate_logits])))\n"
   ]
  },
  {
   "cell_type": "markdown",
   "metadata": {},
   "source": [
    "## Imperfect Translation\n",
    "You might notice that some sentences translate better than others.  Since the dataset you're using only has a vocabulary of 227 English words of the thousands that you use, you're only going to see good results using these words.  For this project, you don't need a perfect translation. However, if you want to create a better translation model, you'll need better data.\n",
    "\n",
    "You can train on the [WMT10 French-English corpus](http://www.statmt.org/wmt10/training-giga-fren.tar).  This dataset has more vocabulary and richer in topics discussed.  However, this will take you days to train, so make sure you've a GPU and the neural network is performing well on dataset we provided.  Just make sure you play with the WMT10 corpus after you've submitted this project.\n",
    "## Submitting This Project\n",
    "When submitting this project, make sure to run all the cells before saving the notebook. Save the notebook file as \"dlnd_language_translation.ipynb\" and save it as a HTML file under \"File\" -> \"Download as\". Include the \"helper.py\" and \"problem_unittests.py\" files in your submission."
   ]
  }
 ],
 "metadata": {
  "anaconda-cloud": {},
  "kernelspec": {
   "display_name": "Python 3",
   "language": "python",
   "name": "python3"
  },
  "language_info": {
   "codemirror_mode": {
    "name": "ipython",
    "version": 3
   },
   "file_extension": ".py",
   "mimetype": "text/x-python",
   "name": "python",
   "nbconvert_exporter": "python",
   "pygments_lexer": "ipython3",
   "version": "3.5.3"
  }
 },
 "nbformat": 4,
 "nbformat_minor": 1
}
